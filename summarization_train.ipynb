{
 "cells": [
  {
   "cell_type": "code",
   "execution_count": null,
   "id": "a56d7d1b-640e-4767-b157-d7fc145dd448",
   "metadata": {},
   "outputs": [],
   "source": [
    "from transformers import AutoTokenizer, AutoModelForSeq2SeqLM, Seq2SeqTrainingArguments, Seq2SeqTrainer\n",
    "from datasets import Dataset\n",
    "from evaluate import load\n",
    "import re\n",
    "import pandas as pd"
   ]
  },
  {
   "cell_type": "markdown",
   "id": "27cf904d",
   "metadata": {},
   "source": [
    "LOAD DATASET"
   ]
  },
  {
   "cell_type": "code",
   "execution_count": null,
   "id": "9d7ac7e6-4e17-4d78-badb-a0783ab3de38",
   "metadata": {},
   "outputs": [],
   "source": [
    "splits = {\n",
    "    'train': 'data/train-00000-of-00001-87e767a83d108945.parquet',\n",
    "    'validation': 'data/validation-00000-of-00001-2d1ce84ca498cf0b.parquet'\n",
    "}\n",
    "dataset = pd.read_parquet(\"hf://datasets/musabg/wikipedia-tr-summarization/\" + splits[\"train\"])"
   ]
  },
  {
   "cell_type": "markdown",
   "id": "86ac0ebb",
   "metadata": {},
   "source": [
    "SAMPLE AND CLEAN DATA"
   ]
  },
  {
   "cell_type": "code",
   "execution_count": 6,
   "id": "4f5eb970-3daa-4e3e-ac70-79f22d3fc6ce",
   "metadata": {},
   "outputs": [],
   "source": [
    "reviews_sample = dataset.sample(n=4000, random_state=42)\n",
    "\n",
    "reviews_sample = reviews_sample.rename(columns={\"text\": \"article\", \"summary\": \"summary\"})\n",
    "\n",
    "def clean_text(text):\n",
    "    text = re.sub(r\"[^\\w\\s.,!?ğüşöçıİĞÜŞÖÇ]\", \"\", text)\n",
    "    text = re.sub(r\"\\s+\", \" \", text).strip()\n",
    "    return text\n",
    "\n",
    "reviews_sample[\"article\"] = reviews_sample[\"article\"].apply(clean_text)"
   ]
  },
  {
   "cell_type": "markdown",
   "id": "b12bfbe3",
   "metadata": {},
   "source": [
    "CONVERT AND SPLIT DATA"
   ]
  },
  {
   "cell_type": "code",
   "execution_count": 7,
   "id": "65f2d3c0-fcf8-45e8-a69c-81f2aad0efec",
   "metadata": {},
   "outputs": [],
   "source": [
    "hf_dataset = Dataset.from_pandas(reviews_sample)\n",
    "\n",
    "train_test_split = hf_dataset.train_test_split(test_size=0.1, seed=42)\n",
    "train_dataset = train_test_split[\"train\"]\n",
    "val_dataset = train_test_split[\"test\"]"
   ]
  },
  {
   "cell_type": "markdown",
   "id": "f5a800e1",
   "metadata": {},
   "source": [
    "MODEL AND DATA PREPROCESSING"
   ]
  },
  {
   "cell_type": "code",
   "execution_count": null,
   "id": "2f4cb156-31bf-456e-9e61-bad440046009",
   "metadata": {},
   "outputs": [],
   "source": [
    "model_name = \"ozcangundes/mt5-small-turkish-summarization\"  \n",
    "tokenizer = AutoTokenizer.from_pretrained(model_name)\n",
    "model = AutoModelForSeq2SeqLM.from_pretrained(model_name)\n",
    "\n",
    "def preprocess_data(examples):\n",
    "    inputs = [\"summarize: \" + doc for doc in examples[\"article\"]]\n",
    "    outputs = examples[\"summary\"]\n",
    "\n",
    "    model_inputs = tokenizer(inputs, max_length=512, truncation=True, padding=\"max_length\")\n",
    "    labels = tokenizer(outputs, max_length=200, truncation=True, padding=\"max_length\")\n",
    "    model_inputs[\"labels\"] = labels[\"input_ids\"]\n",
    "\n",
    "    return model_inputs\n",
    "\n",
    "train_dataset = train_dataset.map(preprocess_data, batched=True, remove_columns=train_dataset.column_names)\n",
    "val_dataset = val_dataset.map(preprocess_data, batched=True, remove_columns=val_dataset.column_names)"
   ]
  },
  {
   "cell_type": "markdown",
   "id": "eb95c873",
   "metadata": {},
   "source": [
    "EVALUATION AND TRAINING SETUP"
   ]
  },
  {
   "cell_type": "code",
   "execution_count": null,
   "id": "8cf08ab4-6719-4e8a-ae86-349b4263d78b",
   "metadata": {},
   "outputs": [],
   "source": [
    "rouge = load(\"rouge\")\n",
    "\n",
    "def compute_metrics(eval_pred):\n",
    "    predictions, labels = eval_pred\n",
    "    decoded_preds = tokenizer.batch_decode(predictions, skip_special_tokens=True)\n",
    "    decoded_labels = tokenizer.batch_decode(labels, skip_special_tokens=True)\n",
    "    result = rouge.compute(predictions=decoded_preds, references=decoded_labels, use_stemmer=True)\n",
    "    \n",
    "    if isinstance(result[\"rouge1\"], dict):\n",
    "        return {\n",
    "            \"rouge1\": result[\"rouge1\"][\"fmeasure\"] * 100,\n",
    "            \"rouge2\": result[\"rouge2\"][\"fmeasure\"] * 100,\n",
    "            \"rougeL\": result[\"rougeL\"][\"fmeasure\"] * 100,\n",
    "        }\n",
    "    return {\n",
    "        \"rouge1\": result[\"rouge1\"] * 100,\n",
    "        \"rouge2\": result[\"rouge2\"] * 100,\n",
    "        \"rougeL\": result[\"rougeL\"] * 100,\n",
    "    }\n",
    "\n",
    "training_args = Seq2SeqTrainingArguments(\n",
    "    output_dir=\"./results\",\n",
    "    evaluation_strategy=\"epoch\",\n",
    "    save_strategy=\"epoch\",\n",
    "    save_total_limit=3,\n",
    "    learning_rate=2e-5,\n",
    "    lr_scheduler_type=\"linear\",\n",
    "    warmup_steps=500,\n",
    "    per_device_train_batch_size=6,\n",
    "    per_device_eval_batch_size=6,\n",
    "    num_train_epochs=4,\n",
    "    weight_decay=0.01,\n",
    "    predict_with_generate=True,\n",
    "    logging_dir=\"./logs\",\n",
    "    logging_steps=100,\n",
    "    metric_for_best_model=\"eval_loss\",\n",
    "    fp16=True\n",
    ")\n",
    "\n",
    "trainer = Seq2SeqTrainer(\n",
    "    model=model,\n",
    "    args=training_args,\n",
    "    train_dataset=train_dataset,\n",
    "    eval_dataset=val_dataset,\n",
    "    tokenizer=tokenizer,\n",
    "    compute_metrics=compute_metrics\n",
    ")"
   ]
  },
  {
   "cell_type": "markdown",
   "id": "e00551c9",
   "metadata": {},
   "source": [
    "TRAIN AND SAVE MODEL"
   ]
  },
  {
   "cell_type": "code",
   "execution_count": null,
   "id": "b51c6ff5-f32f-4fb9-9ef1-a8ad8ac38c31",
   "metadata": {},
   "outputs": [],
   "source": [
    "trainer.train()\n",
    "trainer.save_model(\"./trained_model\")"
   ]
  }
 ],
 "metadata": {
  "kernelspec": {
   "display_name": "myenv",
   "language": "python",
   "name": "python3"
  },
  "language_info": {
   "codemirror_mode": {
    "name": "ipython",
    "version": 3
   },
   "file_extension": ".py",
   "mimetype": "text/x-python",
   "name": "python",
   "nbconvert_exporter": "python",
   "pygments_lexer": "ipython3",
   "version": "3.9.6"
  }
 },
 "nbformat": 4,
 "nbformat_minor": 5
}
